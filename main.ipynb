{
 "cells": [
  {
   "cell_type": "code",
   "execution_count": 1,
   "metadata": {},
   "outputs": [],
   "source": [
    "import pandas as pd\n",
    "from functions import leer_datos\n",
    "\n",
    "url = \"https://www.sharkattackfile.net/spreadsheets/GSAF5.xls\"\n",
    "df = leer_datos(url)"
   ]
  },
  {
   "cell_type": "markdown",
   "metadata": {},
   "source": [
    "Estandarizamos los nombres de las columnas y mostramos todas las disponibles"
   ]
  },
  {
   "cell_type": "code",
   "execution_count": 2,
   "metadata": {},
   "outputs": [],
   "source": [
    "pd.set_option(\"display.max_columns\", None)\n",
    "df.columns = df.columns.str.lower().str.strip().str.replace(\" \", \"_\")"
   ]
  },
  {
   "cell_type": "markdown",
   "metadata": {},
   "source": [
    "Eliminamos los valores nulos de la columna \"date\""
   ]
  },
  {
   "cell_type": "code",
   "execution_count": 3,
   "metadata": {},
   "outputs": [],
   "source": [
    "df = df.dropna(subset = [\"date\"])"
   ]
  },
  {
   "cell_type": "markdown",
   "metadata": {},
   "source": [
    "Eliminamos las filas cuya columna \"year\" no aporte valor"
   ]
  },
  {
   "cell_type": "code",
   "execution_count": 4,
   "metadata": {},
   "outputs": [],
   "source": [
    "df = df[df[\"year\"] != 0.0]"
   ]
  },
  {
   "cell_type": "markdown",
   "metadata": {},
   "source": [
    "Cambiamos el type de la columna \"year\" de float a int"
   ]
  },
  {
   "cell_type": "code",
   "execution_count": 5,
   "metadata": {},
   "outputs": [
    {
     "data": {
      "text/plain": [
       "date               object\n",
       "year              float64\n",
       "type               object\n",
       "country            object\n",
       "state              object\n",
       "location           object\n",
       "activity           object\n",
       "name               object\n",
       "sex                object\n",
       "age                object\n",
       "injury             object\n",
       "unnamed:_11        object\n",
       "time               object\n",
       "species            object\n",
       "source             object\n",
       "pdf                object\n",
       "href_formula       object\n",
       "href               object\n",
       "case_number        object\n",
       "case_number.1      object\n",
       "original_order    float64\n",
       "unnamed:_21        object\n",
       "unnamed:_22        object\n",
       "dtype: object"
      ]
     },
     "execution_count": 5,
     "metadata": {},
     "output_type": "execute_result"
    }
   ],
   "source": [
    "df.dtypes"
   ]
  },
  {
   "cell_type": "code",
   "execution_count": 6,
   "metadata": {},
   "outputs": [],
   "source": [
    "df[\"year\"] = df[\"year\"].astype(\"Int64\")"
   ]
  },
  {
   "cell_type": "code",
   "execution_count": 7,
   "metadata": {},
   "outputs": [
    {
     "data": {
      "text/plain": [
       "date               object\n",
       "year                Int64\n",
       "type               object\n",
       "country            object\n",
       "state              object\n",
       "location           object\n",
       "activity           object\n",
       "name               object\n",
       "sex                object\n",
       "age                object\n",
       "injury             object\n",
       "unnamed:_11        object\n",
       "time               object\n",
       "species            object\n",
       "source             object\n",
       "pdf                object\n",
       "href_formula       object\n",
       "href               object\n",
       "case_number        object\n",
       "case_number.1      object\n",
       "original_order    float64\n",
       "unnamed:_21        object\n",
       "unnamed:_22        object\n",
       "dtype: object"
      ]
     },
     "execution_count": 7,
     "metadata": {},
     "output_type": "execute_result"
    }
   ],
   "source": [
    "df.dtypes"
   ]
  },
  {
   "cell_type": "markdown",
   "metadata": {},
   "source": [
    "Filtramos las fechas a los últimos 50 años"
   ]
  },
  {
   "cell_type": "code",
   "execution_count": 8,
   "metadata": {},
   "outputs": [],
   "source": [
    "año_inicio = 1974\n",
    "año_final = 2024\n",
    "\n",
    "df = df[(df[\"year\"] >= año_inicio) & (df[\"year\"] <= año_final)]"
   ]
  },
  {
   "cell_type": "markdown",
   "metadata": {},
   "source": [
    "Eliminamos columnas vacías"
   ]
  },
  {
   "cell_type": "code",
   "execution_count": 9,
   "metadata": {},
   "outputs": [],
   "source": [
    "df = df.drop(columns = [\"pdf\", \"href_formula\", \"href\", \"case_number\", \"case_number.1\", \"original_order\", \"unnamed:_21\", \"unnamed:_22\"])"
   ]
  },
  {
   "cell_type": "markdown",
   "metadata": {},
   "source": [
    "Renombramos columna fallecidos"
   ]
  },
  {
   "cell_type": "code",
   "execution_count": 10,
   "metadata": {},
   "outputs": [],
   "source": [
    "df = df.rename(columns = {\"unnamed:_11\": \"fatal\"})"
   ]
  },
  {
   "cell_type": "markdown",
   "metadata": {},
   "source": [
    "Corregimos valores nulos de determinadas columnas y los sustituimos por \"Unknown\" o \"U\""
   ]
  },
  {
   "cell_type": "code",
   "execution_count": 11,
   "metadata": {},
   "outputs": [],
   "source": [
    "df[\"activity\"] = df[\"activity\"].fillna(\"Unknown\")\n",
    "df[\"name\"] = df[\"name\"].fillna(\"Unknown\")\n",
    "df[\"sex\"] = df[\"sex\"].fillna(\"U\")\n",
    "df[\"species\"] = df[\"species\"].fillna(\"Unknown\")\n",
    "df[\"fatal\"] = df[\"fatal\"].fillna(\"U\")"
   ]
  },
  {
   "cell_type": "code",
   "execution_count": 16,
   "metadata": {},
   "outputs": [
    {
     "data": {
      "text/html": [
       "<div>\n",
       "<style scoped>\n",
       "    .dataframe tbody tr th:only-of-type {\n",
       "        vertical-align: middle;\n",
       "    }\n",
       "\n",
       "    .dataframe tbody tr th {\n",
       "        vertical-align: top;\n",
       "    }\n",
       "\n",
       "    .dataframe thead th {\n",
       "        text-align: right;\n",
       "    }\n",
       "</style>\n",
       "<table border=\"1\" class=\"dataframe\">\n",
       "  <thead>\n",
       "    <tr style=\"text-align: right;\">\n",
       "      <th></th>\n",
       "      <th>date</th>\n",
       "      <th>year</th>\n",
       "      <th>type</th>\n",
       "      <th>country</th>\n",
       "      <th>state</th>\n",
       "      <th>location</th>\n",
       "      <th>activity</th>\n",
       "      <th>name</th>\n",
       "      <th>sex</th>\n",
       "      <th>age</th>\n",
       "      <th>injury</th>\n",
       "      <th>fatal</th>\n",
       "      <th>time</th>\n",
       "      <th>species</th>\n",
       "      <th>source</th>\n",
       "    </tr>\n",
       "  </thead>\n",
       "  <tbody>\n",
       "    <tr>\n",
       "      <th>0</th>\n",
       "      <td>15 Mar 2024</td>\n",
       "      <td>2024</td>\n",
       "      <td>Unprovoked</td>\n",
       "      <td>AUSTRALIA</td>\n",
       "      <td>Queensland</td>\n",
       "      <td>Bargara Beach</td>\n",
       "      <td>Swimming</td>\n",
       "      <td>Brooklyn Sauer</td>\n",
       "      <td>F</td>\n",
       "      <td>13</td>\n",
       "      <td>Minor injuries to back, abdomen and legs</td>\n",
       "      <td>U</td>\n",
       "      <td>16h00</td>\n",
       "      <td>Tiger shark</td>\n",
       "      <td>Yahoo News, 3/15/2024</td>\n",
       "    </tr>\n",
       "    <tr>\n",
       "      <th>1</th>\n",
       "      <td>04 Mar 2024</td>\n",
       "      <td>2024</td>\n",
       "      <td>Unprovoked</td>\n",
       "      <td>USA</td>\n",
       "      <td>Hawaii</td>\n",
       "      <td>Old Man's, Waikiki</td>\n",
       "      <td>Surfing</td>\n",
       "      <td>Matthew White</td>\n",
       "      <td>M</td>\n",
       "      <td>NaN</td>\n",
       "      <td>No injury, shark bit surfboard</td>\n",
       "      <td>N</td>\n",
       "      <td>NaN</td>\n",
       "      <td>Tiger shark 8'</td>\n",
       "      <td>Surfer, 3/6/2024F</td>\n",
       "    </tr>\n",
       "    <tr>\n",
       "      <th>2</th>\n",
       "      <td>02 Mar-2024</td>\n",
       "      <td>2024</td>\n",
       "      <td>Unprovoked</td>\n",
       "      <td>USA</td>\n",
       "      <td>Hawaii</td>\n",
       "      <td>Rainbows, Oahu</td>\n",
       "      <td>Swimming</td>\n",
       "      <td>Unknown</td>\n",
       "      <td>F</td>\n",
       "      <td>11</td>\n",
       "      <td>Lacerations to left foot</td>\n",
       "      <td>N</td>\n",
       "      <td>13h30</td>\n",
       "      <td>3' to 4' shark</td>\n",
       "      <td>Hawaii News Now, 3/4/2024</td>\n",
       "    </tr>\n",
       "    <tr>\n",
       "      <th>3</th>\n",
       "      <td>25 Feb-2024</td>\n",
       "      <td>2024</td>\n",
       "      <td>Unprovoked</td>\n",
       "      <td>AUSTRALIA</td>\n",
       "      <td>Western Australia</td>\n",
       "      <td>Sandlnd Island, Jurian Bay</td>\n",
       "      <td>Unknown</td>\n",
       "      <td>female</td>\n",
       "      <td>F</td>\n",
       "      <td>46</td>\n",
       "      <td>Leg bitten</td>\n",
       "      <td>N</td>\n",
       "      <td>11h30</td>\n",
       "      <td>Tiger shark</td>\n",
       "      <td>WA Today, 2/26/2024</td>\n",
       "    </tr>\n",
       "    <tr>\n",
       "      <th>4</th>\n",
       "      <td>14 Feb-2024</td>\n",
       "      <td>2024</td>\n",
       "      <td>Unprovoked</td>\n",
       "      <td>INDIA</td>\n",
       "      <td>Maharashtra</td>\n",
       "      <td>Vaitarna River, Palghar District</td>\n",
       "      <td>Fishing</td>\n",
       "      <td>Vicky Suresh Govari</td>\n",
       "      <td>M</td>\n",
       "      <td>32</td>\n",
       "      <td>Calf of lower left leg injured</td>\n",
       "      <td>N</td>\n",
       "      <td>NaN</td>\n",
       "      <td>Bull shark, 7'</td>\n",
       "      <td>Times of India, 2/14/2024</td>\n",
       "    </tr>\n",
       "    <tr>\n",
       "      <th>...</th>\n",
       "      <td>...</td>\n",
       "      <td>...</td>\n",
       "      <td>...</td>\n",
       "      <td>...</td>\n",
       "      <td>...</td>\n",
       "      <td>...</td>\n",
       "      <td>...</td>\n",
       "      <td>...</td>\n",
       "      <td>...</td>\n",
       "      <td>...</td>\n",
       "      <td>...</td>\n",
       "      <td>...</td>\n",
       "      <td>...</td>\n",
       "      <td>...</td>\n",
       "      <td>...</td>\n",
       "    </tr>\n",
       "    <tr>\n",
       "      <th>3904</th>\n",
       "      <td>07-Jan-1974</td>\n",
       "      <td>1974</td>\n",
       "      <td>Unprovoked</td>\n",
       "      <td>SOUTH AFRICA</td>\n",
       "      <td>KwaZulu-Natal</td>\n",
       "      <td>Amanzimtoti</td>\n",
       "      <td>Swimming</td>\n",
       "      <td>Cornelius “Les” Pyper</td>\n",
       "      <td>M</td>\n",
       "      <td>33</td>\n",
       "      <td>Knee &amp; calf lacerated</td>\n",
       "      <td>N</td>\n",
       "      <td>14h10</td>\n",
       "      <td>2 m to 2.5 m [6.75'  to 8.25'] shark</td>\n",
       "      <td>L. Pyper, J. Bass, G. Charter; B. Davis, M. Le...</td>\n",
       "    </tr>\n",
       "    <tr>\n",
       "      <th>3905</th>\n",
       "      <td>07-Jan-1974</td>\n",
       "      <td>1974</td>\n",
       "      <td>Unprovoked</td>\n",
       "      <td>MOZAMBIQUE</td>\n",
       "      <td>Gaza</td>\n",
       "      <td>Xai Xai</td>\n",
       "      <td>Swimming</td>\n",
       "      <td>Oaulkurt-Pape</td>\n",
       "      <td>M</td>\n",
       "      <td>NaN</td>\n",
       "      <td>FATAL</td>\n",
       "      <td>Y</td>\n",
       "      <td>NaN</td>\n",
       "      <td>Unknown</td>\n",
       "      <td>Johannesburg Star, 1/8/1974</td>\n",
       "    </tr>\n",
       "    <tr>\n",
       "      <th>3906</th>\n",
       "      <td>07-Jan-1974</td>\n",
       "      <td>1974</td>\n",
       "      <td>Unprovoked</td>\n",
       "      <td>MOZAMBIQUE</td>\n",
       "      <td>Gaza</td>\n",
       "      <td>Xai Xai</td>\n",
       "      <td>Swimming</td>\n",
       "      <td>male</td>\n",
       "      <td>M</td>\n",
       "      <td>32</td>\n",
       "      <td>FATAL</td>\n",
       "      <td>Y</td>\n",
       "      <td>NaN</td>\n",
       "      <td>Unknown</td>\n",
       "      <td>P. Logan, GSAF</td>\n",
       "    </tr>\n",
       "    <tr>\n",
       "      <th>3907</th>\n",
       "      <td>Summer 1974</td>\n",
       "      <td>1974</td>\n",
       "      <td>Unprovoked</td>\n",
       "      <td>AUSTRALIA</td>\n",
       "      <td>Western Australia</td>\n",
       "      <td>Emu Channel</td>\n",
       "      <td>Spearfishing</td>\n",
       "      <td>Glen Tunbridge</td>\n",
       "      <td>M</td>\n",
       "      <td>NaN</td>\n",
       "      <td>8 to 10 puncture marks around knee</td>\n",
       "      <td>N</td>\n",
       "      <td>NaN</td>\n",
       "      <td>Bronze whaler shark, 4'</td>\n",
       "      <td>G. Tunbridge</td>\n",
       "    </tr>\n",
       "    <tr>\n",
       "      <th>3908</th>\n",
       "      <td>1974</td>\n",
       "      <td>1974</td>\n",
       "      <td>Unprovoked</td>\n",
       "      <td>CROATIA</td>\n",
       "      <td>Primorje-Gorski Kotar County</td>\n",
       "      <td>Preluka Harbour</td>\n",
       "      <td>Unknown</td>\n",
       "      <td>2 Czech tourists</td>\n",
       "      <td>U</td>\n",
       "      <td>NaN</td>\n",
       "      <td>FATAL</td>\n",
       "      <td>Y</td>\n",
       "      <td>NaN</td>\n",
       "      <td>Unknown</td>\n",
       "      <td>A. DeMaddalena</td>\n",
       "    </tr>\n",
       "  </tbody>\n",
       "</table>\n",
       "<p>3907 rows × 15 columns</p>\n",
       "</div>"
      ],
      "text/plain": [
       "             date  year        type       country  \\\n",
       "0     15 Mar 2024  2024  Unprovoked     AUSTRALIA   \n",
       "1     04 Mar 2024  2024  Unprovoked           USA   \n",
       "2     02 Mar-2024  2024  Unprovoked           USA   \n",
       "3     25 Feb-2024  2024  Unprovoked     AUSTRALIA   \n",
       "4     14 Feb-2024  2024  Unprovoked         INDIA   \n",
       "...           ...   ...         ...           ...   \n",
       "3904  07-Jan-1974  1974  Unprovoked  SOUTH AFRICA   \n",
       "3905  07-Jan-1974  1974  Unprovoked    MOZAMBIQUE   \n",
       "3906  07-Jan-1974  1974  Unprovoked    MOZAMBIQUE   \n",
       "3907  Summer 1974  1974  Unprovoked     AUSTRALIA   \n",
       "3908         1974  1974  Unprovoked       CROATIA   \n",
       "\n",
       "                              state                          location  \\\n",
       "0                        Queensland                     Bargara Beach   \n",
       "1                            Hawaii                Old Man's, Waikiki   \n",
       "2                            Hawaii                    Rainbows, Oahu   \n",
       "3                 Western Australia        Sandlnd Island, Jurian Bay   \n",
       "4                       Maharashtra  Vaitarna River, Palghar District   \n",
       "...                             ...                               ...   \n",
       "3904                  KwaZulu-Natal                       Amanzimtoti   \n",
       "3905                           Gaza                           Xai Xai   \n",
       "3906                           Gaza                           Xai Xai   \n",
       "3907              Western Australia                       Emu Channel   \n",
       "3908  Primorje-Gorski Kotar County                    Preluka Harbour   \n",
       "\n",
       "          activity                   name sex  age  \\\n",
       "0         Swimming         Brooklyn Sauer   F   13   \n",
       "1          Surfing          Matthew White   M  NaN   \n",
       "2         Swimming                Unknown   F   11   \n",
       "3          Unknown                 female   F   46   \n",
       "4          Fishing    Vicky Suresh Govari   M   32   \n",
       "...            ...                    ...  ..  ...   \n",
       "3904      Swimming  Cornelius “Les” Pyper   M   33   \n",
       "3905      Swimming          Oaulkurt-Pape   M  NaN   \n",
       "3906      Swimming                   male   M   32   \n",
       "3907  Spearfishing         Glen Tunbridge   M  NaN   \n",
       "3908       Unknown       2 Czech tourists   U  NaN   \n",
       "\n",
       "                                        injury fatal   time  \\\n",
       "0     Minor injuries to back, abdomen and legs     U  16h00   \n",
       "1               No injury, shark bit surfboard     N    NaN   \n",
       "2                     Lacerations to left foot     N  13h30   \n",
       "3                                   Leg bitten     N  11h30   \n",
       "4               Calf of lower left leg injured     N    NaN   \n",
       "...                                        ...   ...    ...   \n",
       "3904                     Knee & calf lacerated     N  14h10   \n",
       "3905                                     FATAL     Y    NaN   \n",
       "3906                                     FATAL     Y    NaN   \n",
       "3907        8 to 10 puncture marks around knee     N    NaN   \n",
       "3908                                     FATAL     Y    NaN   \n",
       "\n",
       "                                   species  \\\n",
       "0                              Tiger shark   \n",
       "1                           Tiger shark 8'   \n",
       "2                           3' to 4' shark   \n",
       "3                              Tiger shark   \n",
       "4                           Bull shark, 7'   \n",
       "...                                    ...   \n",
       "3904  2 m to 2.5 m [6.75'  to 8.25'] shark   \n",
       "3905                               Unknown   \n",
       "3906                               Unknown   \n",
       "3907              Bronze whaler shark, 4'    \n",
       "3908                               Unknown   \n",
       "\n",
       "                                                 source  \n",
       "0                                 Yahoo News, 3/15/2024  \n",
       "1                                     Surfer, 3/6/2024F  \n",
       "2                             Hawaii News Now, 3/4/2024  \n",
       "3                                   WA Today, 2/26/2024  \n",
       "4                             Times of India, 2/14/2024  \n",
       "...                                                 ...  \n",
       "3904  L. Pyper, J. Bass, G. Charter; B. Davis, M. Le...  \n",
       "3905                        Johannesburg Star, 1/8/1974  \n",
       "3906                                     P. Logan, GSAF  \n",
       "3907                                       G. Tunbridge  \n",
       "3908                                     A. DeMaddalena  \n",
       "\n",
       "[3907 rows x 15 columns]"
      ]
     },
     "execution_count": 16,
     "metadata": {},
     "output_type": "execute_result"
    }
   ],
   "source": [
    "df"
   ]
  }
 ],
 "metadata": {
  "kernelspec": {
   "display_name": "base",
   "language": "python",
   "name": "python3"
  },
  "language_info": {
   "codemirror_mode": {
    "name": "ipython",
    "version": 3
   },
   "file_extension": ".py",
   "mimetype": "text/x-python",
   "name": "python",
   "nbconvert_exporter": "python",
   "pygments_lexer": "ipython3",
   "version": "3.11.7"
  }
 },
 "nbformat": 4,
 "nbformat_minor": 2
}
